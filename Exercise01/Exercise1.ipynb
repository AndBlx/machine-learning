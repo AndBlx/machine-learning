{
 "cells": [
  {
   "cell_type": "markdown",
   "metadata": {
    "id": "dfjRPxKIcE-n"
   },
   "source": [
    "## Exercise 1: Data Loading, Inspection and Visualization\n",
    "For this exercise, we use NBA data `nba_stats.csv` provided.\n"
   ]
  },
  {
   "cell_type": "code",
   "execution_count": 55,
   "metadata": {
    "id": "VFxE6lmZkyWW",
    "ExecuteTime": {
     "end_time": "2023-09-24T12:49:22.530706500Z",
     "start_time": "2023-09-24T12:49:22.389170100Z"
    }
   },
   "outputs": [],
   "source": [
    "# Import requiered packages\n",
    "import pandas as pd\n",
    "import matplotlib.pyplot as plt"
   ]
  },
  {
   "cell_type": "markdown",
   "metadata": {},
   "source": [
    "#### 1. Load the dataset."
   ]
  },
  {
   "cell_type": "code",
   "execution_count": 56,
   "metadata": {
    "ExecuteTime": {
     "end_time": "2023-09-24T12:49:22.656171500Z",
     "start_time": "2023-09-24T12:49:22.395686600Z"
    }
   },
   "outputs": [],
   "source": [
    "nba = pd.read_csv('nba_stats.csv', sep=\",\")"
   ]
  },
  {
   "cell_type": "markdown",
   "metadata": {
    "colab": {
     "base_uri": "https://localhost:8080/",
     "height": 204
    },
    "id": "zsDyWkz528x1",
    "outputId": "e84eda28-60bd-4dec-8691-68a9c1b097d3"
   },
   "source": [
    "#### 2. Get an overview of the dataset"
   ]
  },
  {
   "cell_type": "code",
   "execution_count": 57,
   "outputs": [
    {
     "data": {
      "text/plain": "               Year           Age            MP            FT           TRB  \\\ncount  19645.000000  19645.000000  19645.000000  19645.000000  19645.000000   \nmean    1999.475897     26.803614   1168.571596     94.487910    205.793739   \nstd       11.263847      3.973302    925.141538    107.579824    204.223512   \nmin     1978.000000     18.000000      0.000000      0.000000      0.000000   \n25%     1990.000000     24.000000    317.000000     16.000000     47.000000   \n50%     2000.000000     26.000000    995.000000     57.000000    146.000000   \n75%     2009.000000     29.000000   1906.000000    136.000000    297.000000   \nmax     2017.000000     44.000000   3638.000000    833.000000   1530.000000   \n\n                AST           STL           BLK           TOV            PF  \\\ncount  19645.000000  19645.000000  19645.000000  19645.000000  19645.000000   \nmean     111.669738     39.252380     24.340799     73.939832    109.474116   \nstd      137.530665     38.159662     36.649355     67.713803     81.652565   \nmin        0.000000      0.000000      0.000000      0.000000      0.000000   \n25%       17.000000      9.000000      3.000000     18.000000     36.000000   \n50%       63.000000     29.000000     11.000000     55.000000    100.000000   \n75%      154.000000     59.000000     29.000000    112.000000    171.000000   \nmax     1164.000000    301.000000    456.000000    464.000000    386.000000   \n\n                PTS  \ncount  19645.000000  \nmean     490.462662  \nstd      481.407801  \nmin        0.000000  \n25%       96.000000  \n50%      342.000000  \n75%      757.000000  \nmax     3041.000000  ",
      "text/html": "<div>\n<style scoped>\n    .dataframe tbody tr th:only-of-type {\n        vertical-align: middle;\n    }\n\n    .dataframe tbody tr th {\n        vertical-align: top;\n    }\n\n    .dataframe thead th {\n        text-align: right;\n    }\n</style>\n<table border=\"1\" class=\"dataframe\">\n  <thead>\n    <tr style=\"text-align: right;\">\n      <th></th>\n      <th>Year</th>\n      <th>Age</th>\n      <th>MP</th>\n      <th>FT</th>\n      <th>TRB</th>\n      <th>AST</th>\n      <th>STL</th>\n      <th>BLK</th>\n      <th>TOV</th>\n      <th>PF</th>\n      <th>PTS</th>\n    </tr>\n  </thead>\n  <tbody>\n    <tr>\n      <th>count</th>\n      <td>19645.000000</td>\n      <td>19645.000000</td>\n      <td>19645.000000</td>\n      <td>19645.000000</td>\n      <td>19645.000000</td>\n      <td>19645.000000</td>\n      <td>19645.000000</td>\n      <td>19645.000000</td>\n      <td>19645.000000</td>\n      <td>19645.000000</td>\n      <td>19645.000000</td>\n    </tr>\n    <tr>\n      <th>mean</th>\n      <td>1999.475897</td>\n      <td>26.803614</td>\n      <td>1168.571596</td>\n      <td>94.487910</td>\n      <td>205.793739</td>\n      <td>111.669738</td>\n      <td>39.252380</td>\n      <td>24.340799</td>\n      <td>73.939832</td>\n      <td>109.474116</td>\n      <td>490.462662</td>\n    </tr>\n    <tr>\n      <th>std</th>\n      <td>11.263847</td>\n      <td>3.973302</td>\n      <td>925.141538</td>\n      <td>107.579824</td>\n      <td>204.223512</td>\n      <td>137.530665</td>\n      <td>38.159662</td>\n      <td>36.649355</td>\n      <td>67.713803</td>\n      <td>81.652565</td>\n      <td>481.407801</td>\n    </tr>\n    <tr>\n      <th>min</th>\n      <td>1978.000000</td>\n      <td>18.000000</td>\n      <td>0.000000</td>\n      <td>0.000000</td>\n      <td>0.000000</td>\n      <td>0.000000</td>\n      <td>0.000000</td>\n      <td>0.000000</td>\n      <td>0.000000</td>\n      <td>0.000000</td>\n      <td>0.000000</td>\n    </tr>\n    <tr>\n      <th>25%</th>\n      <td>1990.000000</td>\n      <td>24.000000</td>\n      <td>317.000000</td>\n      <td>16.000000</td>\n      <td>47.000000</td>\n      <td>17.000000</td>\n      <td>9.000000</td>\n      <td>3.000000</td>\n      <td>18.000000</td>\n      <td>36.000000</td>\n      <td>96.000000</td>\n    </tr>\n    <tr>\n      <th>50%</th>\n      <td>2000.000000</td>\n      <td>26.000000</td>\n      <td>995.000000</td>\n      <td>57.000000</td>\n      <td>146.000000</td>\n      <td>63.000000</td>\n      <td>29.000000</td>\n      <td>11.000000</td>\n      <td>55.000000</td>\n      <td>100.000000</td>\n      <td>342.000000</td>\n    </tr>\n    <tr>\n      <th>75%</th>\n      <td>2009.000000</td>\n      <td>29.000000</td>\n      <td>1906.000000</td>\n      <td>136.000000</td>\n      <td>297.000000</td>\n      <td>154.000000</td>\n      <td>59.000000</td>\n      <td>29.000000</td>\n      <td>112.000000</td>\n      <td>171.000000</td>\n      <td>757.000000</td>\n    </tr>\n    <tr>\n      <th>max</th>\n      <td>2017.000000</td>\n      <td>44.000000</td>\n      <td>3638.000000</td>\n      <td>833.000000</td>\n      <td>1530.000000</td>\n      <td>1164.000000</td>\n      <td>301.000000</td>\n      <td>456.000000</td>\n      <td>464.000000</td>\n      <td>386.000000</td>\n      <td>3041.000000</td>\n    </tr>\n  </tbody>\n</table>\n</div>"
     },
     "execution_count": 57,
     "metadata": {},
     "output_type": "execute_result"
    }
   ],
   "source": [
    "nba.describe()"
   ],
   "metadata": {
    "collapsed": false,
    "ExecuteTime": {
     "end_time": "2023-09-24T12:49:22.656171500Z",
     "start_time": "2023-09-24T12:49:22.452118200Z"
    }
   }
  },
  {
   "cell_type": "code",
   "execution_count": 58,
   "metadata": {
    "ExecuteTime": {
     "end_time": "2023-09-24T12:49:22.687423700Z",
     "start_time": "2023-09-24T12:49:22.515109200Z"
    }
   },
   "outputs": [
    {
     "data": {
      "text/plain": "   Year        Player Pos  Age   Tm    MP  FT  TRB  AST  STL  BLK  TOV   PF  \\\n0  2017   Ivica Zubac   C   19  LAL   609  32  159   30   14   33   30   66   \n1  2017  Gerald Green  SF   31  BOS   538  33   85   33    9    7   25   48   \n2  2017   Danny Green  SG   29  SAS  1807  27  224  124   71   58   76  120   \n3  2017  Jerian Grant  PG   24  CHI  1028  65  111  120   47    8   44   93   \n4  2017  Jerami Grant  SF   22  OKC  1490  86  199   46   33   75   41  144   \n\n   PTS  \n0  284  \n1  262  \n2  497  \n3  370  \n4  421  ",
      "text/html": "<div>\n<style scoped>\n    .dataframe tbody tr th:only-of-type {\n        vertical-align: middle;\n    }\n\n    .dataframe tbody tr th {\n        vertical-align: top;\n    }\n\n    .dataframe thead th {\n        text-align: right;\n    }\n</style>\n<table border=\"1\" class=\"dataframe\">\n  <thead>\n    <tr style=\"text-align: right;\">\n      <th></th>\n      <th>Year</th>\n      <th>Player</th>\n      <th>Pos</th>\n      <th>Age</th>\n      <th>Tm</th>\n      <th>MP</th>\n      <th>FT</th>\n      <th>TRB</th>\n      <th>AST</th>\n      <th>STL</th>\n      <th>BLK</th>\n      <th>TOV</th>\n      <th>PF</th>\n      <th>PTS</th>\n    </tr>\n  </thead>\n  <tbody>\n    <tr>\n      <th>0</th>\n      <td>2017</td>\n      <td>Ivica Zubac</td>\n      <td>C</td>\n      <td>19</td>\n      <td>LAL</td>\n      <td>609</td>\n      <td>32</td>\n      <td>159</td>\n      <td>30</td>\n      <td>14</td>\n      <td>33</td>\n      <td>30</td>\n      <td>66</td>\n      <td>284</td>\n    </tr>\n    <tr>\n      <th>1</th>\n      <td>2017</td>\n      <td>Gerald Green</td>\n      <td>SF</td>\n      <td>31</td>\n      <td>BOS</td>\n      <td>538</td>\n      <td>33</td>\n      <td>85</td>\n      <td>33</td>\n      <td>9</td>\n      <td>7</td>\n      <td>25</td>\n      <td>48</td>\n      <td>262</td>\n    </tr>\n    <tr>\n      <th>2</th>\n      <td>2017</td>\n      <td>Danny Green</td>\n      <td>SG</td>\n      <td>29</td>\n      <td>SAS</td>\n      <td>1807</td>\n      <td>27</td>\n      <td>224</td>\n      <td>124</td>\n      <td>71</td>\n      <td>58</td>\n      <td>76</td>\n      <td>120</td>\n      <td>497</td>\n    </tr>\n    <tr>\n      <th>3</th>\n      <td>2017</td>\n      <td>Jerian Grant</td>\n      <td>PG</td>\n      <td>24</td>\n      <td>CHI</td>\n      <td>1028</td>\n      <td>65</td>\n      <td>111</td>\n      <td>120</td>\n      <td>47</td>\n      <td>8</td>\n      <td>44</td>\n      <td>93</td>\n      <td>370</td>\n    </tr>\n    <tr>\n      <th>4</th>\n      <td>2017</td>\n      <td>Jerami Grant</td>\n      <td>SF</td>\n      <td>22</td>\n      <td>OKC</td>\n      <td>1490</td>\n      <td>86</td>\n      <td>199</td>\n      <td>46</td>\n      <td>33</td>\n      <td>75</td>\n      <td>41</td>\n      <td>144</td>\n      <td>421</td>\n    </tr>\n  </tbody>\n</table>\n</div>"
     },
     "execution_count": 58,
     "metadata": {},
     "output_type": "execute_result"
    }
   ],
   "source": [
    "nba.head()"
   ]
  },
  {
   "cell_type": "code",
   "execution_count": 59,
   "outputs": [
    {
     "name": "stdout",
     "output_type": "stream",
     "text": [
      "<class 'pandas.core.frame.DataFrame'>\n",
      "RangeIndex: 19645 entries, 0 to 19644\n",
      "Data columns (total 14 columns):\n",
      " #   Column  Non-Null Count  Dtype \n",
      "---  ------  --------------  ----- \n",
      " 0   Year    19645 non-null  int64 \n",
      " 1   Player  19645 non-null  object\n",
      " 2   Pos     19645 non-null  object\n",
      " 3   Age     19645 non-null  int64 \n",
      " 4   Tm      19645 non-null  object\n",
      " 5   MP      19645 non-null  int64 \n",
      " 6   FT      19645 non-null  int64 \n",
      " 7   TRB     19645 non-null  int64 \n",
      " 8   AST     19645 non-null  int64 \n",
      " 9   STL     19645 non-null  int64 \n",
      " 10  BLK     19645 non-null  int64 \n",
      " 11  TOV     19645 non-null  int64 \n",
      " 12  PF      19645 non-null  int64 \n",
      " 13  PTS     19645 non-null  int64 \n",
      "dtypes: int64(11), object(3)\n",
      "memory usage: 2.1+ MB\n"
     ]
    }
   ],
   "source": [
    "nba.info()"
   ],
   "metadata": {
    "collapsed": false,
    "ExecuteTime": {
     "end_time": "2023-09-24T12:49:22.687423700Z",
     "start_time": "2023-09-24T12:49:22.546334800Z"
    }
   }
  },
  {
   "cell_type": "markdown",
   "metadata": {
    "id": "KzdSEbjU4lhq"
   },
   "source": [
    "###### 1. Find the average age of the players for the year 2017."
   ]
  },
  {
   "cell_type": "code",
   "execution_count": 60,
   "metadata": {
    "ExecuteTime": {
     "end_time": "2023-09-24T12:49:22.687423700Z",
     "start_time": "2023-09-24T12:49:22.577614100Z"
    }
   },
   "outputs": [
    {
     "data": {
      "text/plain": "26.40672268907563"
     },
     "execution_count": 60,
     "metadata": {},
     "output_type": "execute_result"
    }
   ],
   "source": [
    "nba17 = nba[(nba.Year == 2017)]\n",
    "nba17[\"Age\"].mean()\n",
    "\n",
    "#nba.loc[nba[\"Year\"] == 2017].Age.mean()"
   ]
  },
  {
   "cell_type": "markdown",
   "metadata": {
    "id": "1297AnJi442Y"
   },
   "source": [
    "###### 2. Plot the total number of points (`PTS`) per year since 2000."
   ]
  },
  {
   "cell_type": "code",
   "execution_count": 61,
   "metadata": {
    "ExecuteTime": {
     "end_time": "2023-09-24T12:49:23.074637600Z",
     "start_time": "2023-09-24T12:49:22.595742400Z"
    }
   },
   "outputs": [
    {
     "data": {
      "text/plain": "<Axes: ylabel='Year'>"
     },
     "execution_count": 61,
     "metadata": {},
     "output_type": "execute_result"
    },
    {
     "data": {
      "text/plain": "<Figure size 640x480 with 1 Axes>",
      "image/png": "[encoded data removed]"
     },
     "metadata": {},
     "output_type": "display_data"
    }
   ],
   "source": [
    "nba2 = nba[(nba.Year >= 2000)]\n",
    "#nba2[\"DATE\"] = pd.to_datetime(nba2[\"Year\"], format=\"%Y\")\n",
    "nba2 = nba2.groupby(\"Year\", as_index=False)[\"PTS\"].sum()\n",
    "nba2.plot(kind = 'barh', x = 'Year', y = 'PTS')\n",
    "\n",
    "#nba.loc[nba[\"Year\"] >= 2000].groupby([\"Year\"])[\"PTS\"].sum().plot(kind=\"barh\")"
   ]
  },
  {
   "cell_type": "markdown",
   "metadata": {
    "id": "0x26BZp390bp"
   },
   "source": [
    "###### 3. Plot the number of players per year since 2010. What is the year with the most players?"
   ]
  },
  {
   "cell_type": "code",
   "execution_count": 62,
   "metadata": {
    "ExecuteTime": {
     "end_time": "2023-09-24T12:49:23.338541700Z",
     "start_time": "2023-09-24T12:49:23.012107500Z"
    }
   },
   "outputs": [
    {
     "data": {
      "text/plain": "<Axes: >"
     },
     "execution_count": 62,
     "metadata": {},
     "output_type": "execute_result"
    },
    {
     "data": {
      "text/plain": "<Figure size 640x480 with 1 Axes>",
      "image/png": "[encoded data removed]"
     },
     "metadata": {},
     "output_type": "display_data"
    }
   ],
   "source": [
    "#nba = nba[(nba.Year >= 2010)]\n",
    "#nba[\"DATE\"] = pd.to_datetime(nba[\"Year\"], format=\"%Y\")\n",
    "#nbaPlayer = nba.groupby(\"Year\", as_index=False)[\"Player\"].count()\n",
    "#nbaPlayer.plot(kind = 'bar', x = 'Year', y = 'Player')\n",
    "#nbaPlayer[\"Player\"].max()\n",
    "\n",
    "nba.loc[nba[\"Year\"] >= 2010][\"Year\"].value_counts(sort=True).plot(kind=\"bar\")"
   ]
  }
 ],
 "metadata": {
  "colab": {
   "authorship_tag": "ABX9TyMGQSXPDnwvhfsfH00XG7VF",
   "collapsed_sections": [],
   "include_colab_link": true,
   "name": "Exercises_Solutions.ipynb",
   "provenance": []
  },
  "kernelspec": {
   "display_name": "Python 3 (ipykernel)",
   "language": "python",
   "name": "python3"
  },
  "language_info": {
   "codemirror_mode": {
    "name": "ipython",
    "version": 3
   },
   "file_extension": ".py",
   "mimetype": "text/x-python",
   "name": "python",
   "nbconvert_exporter": "python",
   "pygments_lexer": "ipython3",
   "version": "3.11.5"
  }
 },
 "nbformat": 4,
 "nbformat_minor": 1
}
